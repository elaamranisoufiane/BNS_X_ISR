{
  "nbformat": 4,
  "nbformat_minor": 0,
  "metadata": {
    "colab": {
      "provenance": []
    },
    "kernelspec": {
      "name": "python3",
      "display_name": "Python 3"
    },
    "language_info": {
      "name": "python"
    }
  },
  "cells": [
    {
      "cell_type": "code",
      "execution_count": 1,
      "metadata": {
        "colab": {
          "base_uri": "https://localhost:8080/"
        },
        "id": "5pXJ6OVeIvf7",
        "outputId": "b0803d24-f231-4f51-a51a-aa441e2fda08"
      },
      "outputs": [
        {
          "output_type": "stream",
          "name": "stdout",
          "text": [
            "Cloning into 'TF-LapSRN'...\n",
            "remote: Enumerating objects: 135, done.\u001b[K\n",
            "remote: Total 135 (delta 0), reused 0 (delta 0), pack-reused 135\u001b[K\n",
            "Receiving objects: 100% (135/135), 42.90 MiB | 25.13 MiB/s, done.\n",
            "Resolving deltas: 100% (12/12), done.\n"
          ]
        }
      ],
      "source": [
        "!git clone https://github.com/fannymonori/TF-LapSRN.git"
      ]
    },
    {
      "cell_type": "code",
      "source": [
        "!git clone https://github.com/Saafke/EDSR_Tensorflow.git"
      ],
      "metadata": {
        "colab": {
          "base_uri": "https://localhost:8080/"
        },
        "id": "FUABfJQfI1TG",
        "outputId": "647e1f3e-b7d8-408f-a00c-6c096d6d09cb"
      },
      "execution_count": 2,
      "outputs": [
        {
          "output_type": "stream",
          "name": "stdout",
          "text": [
            "Cloning into 'EDSR_Tensorflow'...\n",
            "remote: Enumerating objects: 149, done.\u001b[K\n",
            "remote: Counting objects:  16% (1/6)\u001b[K\rremote: Counting objects:  33% (2/6)\u001b[K\rremote: Counting objects:  50% (3/6)\u001b[K\rremote: Counting objects:  66% (4/6)\u001b[K\rremote: Counting objects:  83% (5/6)\u001b[K\rremote: Counting objects: 100% (6/6)\u001b[K\rremote: Counting objects: 100% (6/6), done.\u001b[K\n",
            "remote: Compressing objects: 100% (6/6), done.\u001b[K\n",
            "remote: Total 149 (delta 1), reused 0 (delta 0), pack-reused 143\u001b[K\n",
            "Receiving objects: 100% (149/149), 162.50 MiB | 26.50 MiB/s, done.\n",
            "Resolving deltas: 100% (77/77), done.\n",
            "Updating files: 100% (15/15), done.\n"
          ]
        }
      ]
    },
    {
      "cell_type": "code",
      "source": [
        "!git clone https://github.com/elaamranisoufiane/BNS.git"
      ],
      "metadata": {
        "colab": {
          "base_uri": "https://localhost:8080/"
        },
        "id": "9Iv5kSOUI4AL",
        "outputId": "683a8aaf-7216-4fde-df86-33259cbd5a6e"
      },
      "execution_count": 3,
      "outputs": [
        {
          "output_type": "stream",
          "name": "stdout",
          "text": [
            "Cloning into 'BNS'...\n",
            "remote: Enumerating objects: 772, done.\u001b[K\n",
            "remote: Total 772 (delta 0), reused 0 (delta 0), pack-reused 772\u001b[K\n",
            "Receiving objects: 100% (772/772), 56.82 MiB | 36.03 MiB/s, done.\n",
            "Resolving deltas: 100% (1/1), done.\n"
          ]
        }
      ]
    },
    {
      "cell_type": "code",
      "source": [
        "\n",
        "import cv2\n",
        "import glob\n",
        "import matplotlib.pyplot as plt\n",
        "import time\n",
        "from google.colab.patches import cv2_imshow\n",
        "\n",
        "#pathmasks=\"/content/kmms_test1/masks/*.jpg\"\n",
        "pathimages=\"/content/BNS/outputMasks/*.png\"\n",
        "\n",
        "def save(image, path):\n",
        "  cv2.imwrite(path, image)\n",
        "  print(\"saved!\")\n",
        "\n",
        "\n",
        "images=[image for image in glob.glob(pathimages)]\n",
        "#masks=[mask for mask in glob.glob(pathmasks)]\n",
        "#fig=plt.figure()\n",
        "count=0;\n",
        "\n",
        "\n",
        "def ISR(img, save_path):\n",
        "  img=cv2.imread(f\"{img}\")\n",
        "  width = img.shape[1]\n",
        "  height = img.shape[0]\n",
        "  print(width)\n",
        "  super_res = cv2.dnn_superres.DnnSuperResImpl_create()\n",
        "  start = time.time()\n",
        "  super_res.readModel('/content/TF-LapSRN/export/LapSRN_x4.pb')\n",
        "  super_res.setModel('lapsrn',4)\n",
        "  lapsrn_image = super_res.upsample(img)\n",
        "  end = time.time()\n",
        "  print('Time taken in seconds by lapsrn', end-start)\n",
        "  save(lapsrn_image, save_path)\n",
        "\n",
        "for i in range(len(images)):\n",
        "  name = images[i].split(\"/\")[-1]\n",
        "  save_path_images = f\"/content/newBNS2/masks/{name}\"\n",
        "  ISR(images[i], save_path_images)\n",
        "  print(count)\n",
        "  count=count+1\n",
        "  if count == 2:\n",
        "    break\n"
      ],
      "metadata": {
        "colab": {
          "base_uri": "https://localhost:8080/"
        },
        "id": "Q9-rZqBFI6mU",
        "outputId": "f7d783ce-d461-4c2d-c24d-0430ed2c5473"
      },
      "execution_count": 27,
      "outputs": [
        {
          "output_type": "stream",
          "name": "stdout",
          "text": [
            "256\n",
            "Time taken in seconds by lapsrn 5.451423406600952\n",
            "saved!\n",
            "0\n",
            "256\n",
            "Time taken in seconds by lapsrn 5.847949504852295\n",
            "saved!\n",
            "1\n"
          ]
        }
      ]
    },
    {
      "cell_type": "code",
      "source": [],
      "metadata": {
        "id": "_5pSgsV1J0Yb"
      },
      "execution_count": 8,
      "outputs": []
    }
  ]
}